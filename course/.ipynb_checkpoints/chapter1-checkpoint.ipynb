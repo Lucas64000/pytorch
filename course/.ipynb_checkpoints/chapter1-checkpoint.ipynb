{
 "cells": [
  {
   "cell_type": "markdown",
   "id": "fea09363-41af-4112-af47-a27b8af3b7ea",
   "metadata": {},
   "source": [
    "# Chapter 1 - Introducing deep learning and the PyTorch Library"
   ]
  },
  {
   "cell_type": "markdown",
   "id": "1d73b3e1-bc4b-4e2f-b5ce-6196742b84d6",
   "metadata": {},
   "source": [
    "## Exercises "
   ]
  },
  {
   "cell_type": "markdown",
   "id": "81a45a4c-d819-4417-9425-c826e8dbc48b",
   "metadata": {},
   "source": [
    "### 1. Start Python to get an interactive prompt.\n",
    "* ) What Python version are you using ? We hope it is at least 3.6!\\\n",
    ">b) Can you `import torch`? What version of PyTorch do you get ?\\\n",
    ">c) What is the result of `torch.cuda.is_available()`? Does it match your expectation based on the hardware you're using ?\\\n",
    "\n",
    "### 2. Start the Jupyter notebook server \n",
    ">a) What version of Python is Jupyter using ?\\\n",
    ">b) Is the location of the `torch` library used by Jupyter the same as the one you imported from the interactive prompt?"
   ]
  },
  {
   "cell_type": "markdown",
   "id": "f0e99d20-516b-4181-ac71-c332bc11ab6f",
   "metadata": {},
   "source": [
    "#### 1. a) What Python version are you using ? We hope it is at least 3.6!"
   ]
  },
  {
   "cell_type": "raw",
   "id": "ba2a9e20-8300-407d-af04-6495d6b01946",
   "metadata": {},
   "source": [
    "PS C:\\Users\\Utilisateur> python --version\n",
    "Python 3.12.4"
   ]
  },
  {
   "cell_type": "markdown",
   "id": "43f31af7-ce2e-4ad8-914a-0bcf93a72fdc",
   "metadata": {},
   "source": [
    "#### 1. b) Can you `import torch`? What version of PyTorch do you get ?"
   ]
  },
  {
   "cell_type": "raw",
   "id": "4e8c11d4-70a9-4ed8-abeb-0bd593217e01",
   "metadata": {},
   "source": [
    ">>> import torch\n",
    ">>> torch.__version__\n",
    "'2.3.1+cu118'"
   ]
  },
  {
   "cell_type": "markdown",
   "id": "51111523-905d-4cd5-b823-c2cdbe391ab3",
   "metadata": {},
   "source": [
    "#### 1. c) What is the result of `torch.cuda.is_available()`? Does it match your expectation based on the hardware you're using ?"
   ]
  },
  {
   "cell_type": "raw",
   "id": "9d496cdb-c984-470c-a8ca-2b1b3e86a409",
   "metadata": {},
   "source": [
    ">>> print(torch.cuda.is_available())\n",
    "True\n",
    "\n",
    "PS C:\\Users\\Utilisateur> nvidia-smi\n",
    "Sat Jun 29 22:00:56 2024\n",
    "+-----------------------------------------------------------------------------------------+\n",
    "| NVIDIA-SMI 555.99                 Driver Version: 555.99         CUDA Version: 12.5     |\n",
    "|-----------------------------------------+------------------------+----------------------+\n",
    "| GPU  Name                  Driver-Model | Bus-Id          Disp.A | Volatile Uncorr. ECC |\n",
    "| Fan  Temp   Perf          Pwr:Usage/Cap |           Memory-Usage | GPU-Util  Compute M. |\n",
    "|                                         |                        |               MIG M. |\n",
    "|=========================================+========================+======================|\n",
    "|   0  NVIDIA GeForce RTX 2060      WDDM  |   00000000:01:00.0 Off |                  N/A |\n",
    "| N/A   51C    P8              5W /   30W |       0MiB /   6144MiB |      0%      Default |\n",
    "|                                         |                        |                  N/A |\n",
    "+-----------------------------------------+------------------------+----------------------+\n",
    "\n",
    "+-----------------------------------------------------------------------------------------+\n",
    "| Processes:                                                                              |\n",
    "|  GPU   GI   CI        PID   Type   Process name                              GPU Memory |\n",
    "|        ID   ID                                                               Usage      |\n",
    "|=========================================================================================|\n",
    "|    0   N/A  N/A     14048    C+G   ...8bbwe\\SnippingTool\\SnippingTool.exe      N/A      |\n",
    "+-----------------------------------------------------------------------------------------+"
   ]
  },
  {
   "cell_type": "markdown",
   "id": "e5ae971f-f9fe-4a2c-b410-b57bbf428739",
   "metadata": {},
   "source": [
    "#### 2. a) What version of Python is Jupyter using ?"
   ]
  },
  {
   "cell_type": "code",
   "execution_count": 3,
   "id": "8c16cb1c-0c9a-4431-b5ea-8ff418948b2f",
   "metadata": {},
   "outputs": [
    {
     "name": "stdout",
     "output_type": "stream",
     "text": [
      "Python 3.12.4\n"
     ]
    }
   ],
   "source": [
    "!python --version"
   ]
  },
  {
   "cell_type": "markdown",
   "id": "cfb241b7-fa26-4378-b297-cb0b20238a2a",
   "metadata": {},
   "source": [
    "#### 2. b) Is the location of the `torch` library used by Jupyter the same as the one you imported from the interactive prompt?"
   ]
  },
  {
   "cell_type": "code",
   "execution_count": 2,
   "id": "66511a96-719c-469c-8271-7360db317fe8",
   "metadata": {},
   "outputs": [
    {
     "data": {
      "text/plain": [
       "'C:\\\\Users\\\\Utilisateur\\\\AppData\\\\Local\\\\Programs\\\\Python\\\\Python312\\\\Lib\\\\site-packages\\\\torch\\\\__init__.py'"
      ]
     },
     "execution_count": 2,
     "metadata": {},
     "output_type": "execute_result"
    }
   ],
   "source": [
    "import torch\n",
    "torch.__file__"
   ]
  },
  {
   "cell_type": "raw",
   "id": "30796933-45d8-4801-8919-a9bd0da6e885",
   "metadata": {},
   "source": [
    ">>> torch.__file__\n",
    "'C:\\\\Users\\\\Utilisateur\\\\AppData\\\\Local\\\\Programs\\\\Python\\\\Python312\\\\Lib\\\\site-packages\\\\torch\\\\__init__.py'"
   ]
  }
 ],
 "metadata": {
  "kernelspec": {
   "display_name": "Python 3 (ipykernel)",
   "language": "python",
   "name": "python3"
  },
  "language_info": {
   "codemirror_mode": {
    "name": "ipython",
    "version": 3
   },
   "file_extension": ".py",
   "mimetype": "text/x-python",
   "name": "python",
   "nbconvert_exporter": "python",
   "pygments_lexer": "ipython3",
   "version": "3.12.4"
  }
 },
 "nbformat": 4,
 "nbformat_minor": 5
}
